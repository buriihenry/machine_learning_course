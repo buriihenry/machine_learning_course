{
 "cells": [
  {
   "cell_type": "code",
   "execution_count": 1,
   "id": "d9a8c3ac",
   "metadata": {},
   "outputs": [],
   "source": [
    "import pandas as pd\n",
    "import numpy as np\n",
    "\n",
    "import seaborn as sns\n",
    "from matplotlib import pyplot as plt\n",
    "%matplotlib inline"
   ]
  },
  {
   "cell_type": "code",
   "execution_count": 2,
   "id": "12cfc3b9",
   "metadata": {},
   "outputs": [],
   "source": [
    "from sklearn.model_selection import train_test_split\n",
    "from sklearn.feature_extraction import DictVectorizer\n",
    "from sklearn.linear_model import LogisticRegression"
   ]
  },
  {
   "cell_type": "code",
   "execution_count": 10,
   "id": "775b56ee",
   "metadata": {},
   "outputs": [],
   "source": [
    "data = 'https://raw.githubusercontent.com/alexeygrigorev/mlbookcamp-code/master/chapter-03-churn-prediction/WA_Fn-UseC_-Telco-Customer-Churn.csv'"
   ]
  },
  {
   "cell_type": "code",
   "execution_count": 11,
   "id": "d7bdd2df",
   "metadata": {},
   "outputs": [
    {
     "name": "stderr",
     "output_type": "stream",
     "text": [
      "--2023-09-14 03:43:06--  https://raw.githubusercontent.com/alexeygrigorev/mlbookcamp-code/master/chapter-03-churn-prediction/WA_Fn-UseC_-Telco-Customer-Churn.csv\n",
      "Resolving raw.githubusercontent.com (raw.githubusercontent.com)... 185.199.110.133, 185.199.111.133, 185.199.108.133, ...\n",
      "Connecting to raw.githubusercontent.com (raw.githubusercontent.com)|185.199.110.133|:443... connected.\n",
      "HTTP request sent, awaiting response... 200 OK\n",
      "Length: 977501 (955K) [text/plain]\n",
      "Saving to: 'WA_Fn-UseC_-Telco-Customer-Churn.csv'\n",
      "\n",
      "     0K .......... .......... .......... .......... ..........  5%  393K 2s\n",
      "    50K .......... .......... .......... .......... .......... 10% 1.40M 1s\n",
      "   100K .......... .......... .......... .......... .......... 15%  726K 1s\n",
      "   150K .......... .......... .......... .......... .......... 20% 2.26M 1s\n",
      "   200K .......... .......... .......... .......... .......... 26%  770K 1s\n",
      "   250K .......... .......... .......... .......... .......... 31% 1.71M 1s\n",
      "   300K .......... .......... .......... .......... .......... 36% 2.30M 1s\n",
      "   350K .......... .......... .......... .......... .......... 41%  712K 1s\n",
      "   400K .......... .......... .......... .......... .......... 47% 1.99M 1s\n",
      "   450K .......... .......... .......... .......... .......... 52% 3.58M 0s\n",
      "   500K .......... .......... .......... .......... .......... 57% 9.27M 0s\n",
      "   550K .......... .......... .......... .......... .......... 62% 6.57M 0s\n",
      "   600K .......... .......... .......... .......... .......... 68% 1.08M 0s\n",
      "   650K .......... .......... .......... .......... .......... 73% 4.88M 0s\n",
      "   700K .......... .......... .......... .......... .......... 78% 6.18M 0s\n",
      "   750K .......... .......... .......... .......... .......... 83% 4.70M 0s\n",
      "   800K .......... .......... .......... .......... .......... 89% 5.00M 0s\n",
      "   850K .......... .......... .......... .......... .......... 94% 10.5M 0s\n",
      "   900K .......... .......... .......... .......... .......... 99% 4.41M 0s\n",
      "   950K ....                                                  100% 87.6G=0.6s\n",
      "\n",
      "2023-09-14 03:43:07 (1.59 MB/s) - 'WA_Fn-UseC_-Telco-Customer-Churn.csv' saved [977501/977501]\n",
      "\n"
     ]
    }
   ],
   "source": [
    "!wget $data"
   ]
  },
  {
   "cell_type": "code",
   "execution_count": null,
   "id": "3c06af5b",
   "metadata": {},
   "outputs": [],
   "source": []
  },
  {
   "cell_type": "code",
   "execution_count": 14,
   "id": "a3c00b33",
   "metadata": {},
   "outputs": [],
   "source": [
    "df = pd.read_csv('WA_Fn-UseC_-Telco-Customer-Churn.csv')\n",
    "\n",
    "df['TotalCharges'] = pd.to_numeric(df['TotalCharges'], errors='coerce')\n",
    "df['TotalCharges'] = df['TotalCharges'].fillna(0)\n",
    "\n",
    "df.columns = df.columns.str.lower().str.replace(' ', '_')\n",
    "\n",
    "string_columns = list(df.dtypes[df.dtypes == 'object'].index)\n",
    "\n",
    "for col in string_columns:\n",
    "    df[col] = df[col].str.lower().str.replace(' ', '_')\n",
    "\n",
    "df.churn = (df.churn == 'yes').astype(int)"
   ]
  },
  {
   "cell_type": "code",
   "execution_count": null,
   "id": "e97fa0e0",
   "metadata": {},
   "outputs": [],
   "source": []
  }
 ],
 "metadata": {
  "kernelspec": {
   "display_name": "Python 3 (ipykernel)",
   "language": "python",
   "name": "python3"
  },
  "language_info": {
   "codemirror_mode": {
    "name": "ipython",
    "version": 3
   },
   "file_extension": ".py",
   "mimetype": "text/x-python",
   "name": "python",
   "nbconvert_exporter": "python",
   "pygments_lexer": "ipython3",
   "version": "3.10.5"
  }
 },
 "nbformat": 4,
 "nbformat_minor": 5
}
