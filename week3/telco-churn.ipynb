{
 "cells": [
  {
   "cell_type": "code",
   "execution_count": 1,
   "id": "67784517",
   "metadata": {},
   "outputs": [],
   "source": [
    "import pandas as pd\n",
    "import numpy as np\n",
    "\n",
    "import seaborn as sns\n",
    "from matplotlib import pyplot as plt\n",
    "%matplotlib inline"
   ]
  },
  {
   "cell_type": "code",
   "execution_count": 2,
   "id": "e262e916",
   "metadata": {},
   "outputs": [],
   "source": [
    "from sklearn.model_selection import train_test_split\n",
    "from sklearn.feature_extraction import DictVectorizer\n",
    "from sklearn.linear_model import LogisticRegression"
   ]
  },
  {
   "cell_type": "code",
   "execution_count": 10,
   "id": "abc853a0",
   "metadata": {},
   "outputs": [],
   "source": [
    "data = 'https://raw.githubusercontent.com/alexeygrigorev/mlbookcamp-code/master/chapter-03-churn-prediction/WA_Fn-UseC_-Telco-Customer-Churn.csv'"
   ]
  },
  {
   "cell_type": "code",
   "execution_count": 11,
   "id": "120f9337",
   "metadata": {},
   "outputs": [
    {
     "name": "stderr",
     "output_type": "stream",
     "text": [
      "--2023-09-14 03:43:06--  https://raw.githubusercontent.com/alexeygrigorev/mlbookcamp-code/master/chapter-03-churn-prediction/WA_Fn-UseC_-Telco-Customer-Churn.csv\n",
      "Resolving raw.githubusercontent.com (raw.githubusercontent.com)... 185.199.110.133, 185.199.111.133, 185.199.108.133, ...\n",
      "Connecting to raw.githubusercontent.com (raw.githubusercontent.com)|185.199.110.133|:443... connected.\n",
      "HTTP request sent, awaiting response... 200 OK\n",
      "Length: 977501 (955K) [text/plain]\n",
      "Saving to: 'WA_Fn-UseC_-Telco-Customer-Churn.csv'\n",
      "\n",
      "     0K .......... .......... .......... .......... ..........  5%  393K 2s\n",
      "    50K .......... .......... .......... .......... .......... 10% 1.40M 1s\n",
      "   100K .......... .......... .......... .......... .......... 15%  726K 1s\n",
      "   150K .......... .......... .......... .......... .......... 20% 2.26M 1s\n",
      "   200K .......... .......... .......... .......... .......... 26%  770K 1s\n",
      "   250K .......... .......... .......... .......... .......... 31% 1.71M 1s\n",
      "   300K .......... .......... .......... .......... .......... 36% 2.30M 1s\n",
      "   350K .......... .......... .......... .......... .......... 41%  712K 1s\n",
      "   400K .......... .......... .......... .......... .......... 47% 1.99M 1s\n",
      "   450K .......... .......... .......... .......... .......... 52% 3.58M 0s\n",
      "   500K .......... .......... .......... .......... .......... 57% 9.27M 0s\n",
      "   550K .......... .......... .......... .......... .......... 62% 6.57M 0s\n",
      "   600K .......... .......... .......... .......... .......... 68% 1.08M 0s\n",
      "   650K .......... .......... .......... .......... .......... 73% 4.88M 0s\n",
      "   700K .......... .......... .......... .......... .......... 78% 6.18M 0s\n",
      "   750K .......... .......... .......... .......... .......... 83% 4.70M 0s\n",
      "   800K .......... .......... .......... .......... .......... 89% 5.00M 0s\n",
      "   850K .......... .......... .......... .......... .......... 94% 10.5M 0s\n",
      "   900K .......... .......... .......... .......... .......... 99% 4.41M 0s\n",
      "   950K ....                                                  100% 87.6G=0.6s\n",
      "\n",
      "2023-09-14 03:43:07 (1.59 MB/s) - 'WA_Fn-UseC_-Telco-Customer-Churn.csv' saved [977501/977501]\n",
      "\n"
     ]
    }
   ],
   "source": [
    "!wget $data"
   ]
  },
  {
   "cell_type": "code",
   "execution_count": 7,
   "id": "244f1be4",
   "metadata": {},
   "outputs": [
    {
     "data": {
      "text/html": [
       "<div>\n",
       "<style scoped>\n",
       "    .dataframe tbody tr th:only-of-type {\n",
       "        vertical-align: middle;\n",
       "    }\n",
       "\n",
       "    .dataframe tbody tr th {\n",
       "        vertical-align: top;\n",
       "    }\n",
       "\n",
       "    .dataframe thead th {\n",
       "        text-align: right;\n",
       "    }\n",
       "</style>\n",
       "<table border=\"1\" class=\"dataframe\">\n",
       "  <thead>\n",
       "    <tr style=\"text-align: right;\">\n",
       "      <th></th>\n",
       "      <th>{\"payload\":{\"allShortcutsEnabled\":false</th>\n",
       "      <th>fileTree:{\"chapter-03-churn-prediction\":{\"items\":[{\"name\":\"03-churn.ipynb\"</th>\n",
       "      <th>path:\"chapter-03-churn-prediction/03-churn.ipynb\"</th>\n",
       "      <th>contentType:\"file\"}</th>\n",
       "      <th>{\"name\":\"04-metrics.ipynb\"</th>\n",
       "      <th>path:\"chapter-03-churn-prediction/04-metrics.ipynb\"</th>\n",
       "      <th>contentType:\"file\"}.1</th>\n",
       "      <th>{\"name\":\"WA_Fn-UseC_-Telco-Customer-Churn.csv\"</th>\n",
       "      <th>path:\"chapter-03-churn-prediction/WA_Fn-UseC_-Telco-Customer-Churn.csv\"</th>\n",
       "      <th>contentType:\"file\"}]</th>\n",
       "      <th>...</th>\n",
       "      <th>truncated:false</th>\n",
       "      <th>viewable:true</th>\n",
       "      <th>workflowRedirectUrl:null</th>\n",
       "      <th>symbols:{\"timedOut\":false</th>\n",
       "      <th>notAnalyzed:true</th>\n",
       "      <th>symbols:[]}}</th>\n",
       "      <th>copilotInfo:null</th>\n",
       "      <th>csrf_tokens:{\"/alexeygrigorev/mlbookcamp-code/branches\":{\"post\":\"lhi_8T2vlVjUPwr8YzCEDebkWOXxa0O0QzU9xIDgRPN-poKgb8fqWPE1RQQW9rwS4wzc1sQb18nJ9UqTphnVCQ\"}</th>\n",
       "      <th>/repos/preferences:{\"post\":\"ZAIWP5Ctsqm0SiW_r7kWCvFHpKzyHbxCcc688KcyomZLdXf6WwfVGg29ObKs1rEMiZwwEVEC1pTxqD-__LilqQ\"}}}</th>\n",
       "      <th>title:\"mlbookcamp-code/chapter-03-churn-prediction/WA_Fn-UseC_-Telco-Customer-Churn.csv at master · alexeygrigorev/mlbookcamp-code\"}</th>\n",
       "    </tr>\n",
       "  </thead>\n",
       "  <tbody>\n",
       "  </tbody>\n",
       "</table>\n",
       "<p>0 rows × 14273 columns</p>\n",
       "</div>"
      ],
      "text/plain": [
       "Empty DataFrame\n",
       "Columns: [{\"payload\":{\"allShortcutsEnabled\":false, fileTree:{\"chapter-03-churn-prediction\":{\"items\":[{\"name\":\"03-churn.ipynb\", path:\"chapter-03-churn-prediction/03-churn.ipynb\", contentType:\"file\"}, {\"name\":\"04-metrics.ipynb\", path:\"chapter-03-churn-prediction/04-metrics.ipynb\", contentType:\"file\"}.1, {\"name\":\"WA_Fn-UseC_-Telco-Customer-Churn.csv\", path:\"chapter-03-churn-prediction/WA_Fn-UseC_-Telco-Customer-Churn.csv\", contentType:\"file\"}], totalCount:3}, :{\"items\":[{\"name\":\".github\", path:\".github\", contentType:\"directory\"}, {\"name\":\"chapter-02-car-price\", path:\"chapter-02-car-price\", contentType:\"directory\"}.1, {\"name\":\"chapter-03-churn-prediction\", path:\"chapter-03-churn-prediction\", contentType:\"directory\"}.2, {\"name\":\"chapter-05-deployment\", path:\"chapter-05-deployment\", contentType:\"directory\"}.3, {\"name\":\"chapter-06-trees\", path:\"chapter-06-trees\", contentType:\"directory\"}.4, {\"name\":\"chapter-07-neural-nets\", path:\"chapter-07-neural-nets\", contentType:\"directory\"}.5, {\"name\":\"chapter-08-serverless\", path:\"chapter-08-serverless\", contentType:\"directory\"}.6, {\"name\":\"chapter-09-kubeflow\", path:\"chapter-09-kubeflow\", contentType:\"directory\"}.7, {\"name\":\"chapter-09-kubernetes\", path:\"chapter-09-kubernetes\", contentType:\"directory\"}.8, {\"name\":\"course-zoomcamp\", path:\"course-zoomcamp\", contentType:\"directory\"}.9, {\"name\":\"images\", path:\"images\", contentType:\"directory\"}.10, {\"name\":\"util\", path:\"util\", contentType:\"directory\"}.11, {\"name\":\".gitignore\", path:\".gitignore\", contentType:\"file\"}.2, {\"name\":\"README.md\", path:\"README.md\", contentType:\"file\"}.3, {\"name\":\"appendix-b-python.ipynb\", path:\"appendix-b-python.ipynb\", contentType:\"file\"}.4, {\"name\":\"appendix-c-numpy.ipynb\", path:\"appendix-c-numpy.ipynb\", contentType:\"file\"}.5, {\"name\":\"appendix-d-pandas.ipynb\", path:\"appendix-d-pandas.ipynb\", contentType:\"file\"}.6, {\"name\":\"useful_code.py\", path:\"useful_code.py\", contentType:\"file\"}].1, totalCount:18}}, fileTreeProcessingTime:14.114242, foldersToFetch:[], reducedMotionEnabled:null, repo:{\"id\":673385890, defaultBranch:\"master\", name:\"mlbookcamp-code\", ownerLogin:\"alexeygrigorev\", currentUserCanPush:false, isFork:false, isEmpty:false, createdAt:\"2023-08-01T14:02:25.000Z\", ownerAvatar:\"https://avatars.githubusercontent.com/u/875246?v=4\", public:true, private:false, isOrgOwned:false}, symbolsExpanded:false, treeExpanded:true, refInfo:{\"name\":\"master\", listCacheKey:\"v0:1690898588.194967\", canEdit:false, refType:\"branch\", currentOid:\"e6fcff7e861ed418d42b0aa6578a7edab8cf944f\"}, path:\"chapter-03-churn-prediction/WA_Fn-UseC_-Telco-Customer-Churn.csv\".1, currentUser:null, blob:{\"rawLines\":[\"customerID, gender, SeniorCitizen, Partner, Dependents, tenure, PhoneService, MultipleLines, InternetService, OnlineSecurity, ...]\n",
       "Index: []\n",
       "\n",
       "[0 rows x 14273 columns]"
      ]
     },
     "execution_count": 7,
     "metadata": {},
     "output_type": "execute_result"
    }
   ],
   "source": [
    "df = pd.read_csv('WA_Fn-UseC_-Telco-Customer-Churn.csv')\n",
    "df.head()"
   ]
  },
  {
   "cell_type": "code",
   "execution_count": 5,
   "id": "1fcfc346",
   "metadata": {},
   "outputs": [
    {
     "ename": "AttributeError",
     "evalue": "'DataFrame' object has no attribute 'churn'",
     "output_type": "error",
     "traceback": [
      "\u001b[1;31m---------------------------------------------------------------------------\u001b[0m",
      "\u001b[1;31mAttributeError\u001b[0m                            Traceback (most recent call last)",
      "Input \u001b[1;32mIn [5]\u001b[0m, in \u001b[0;36m<cell line: 13>\u001b[1;34m()\u001b[0m\n\u001b[0;32m     10\u001b[0m \u001b[38;5;28;01mfor\u001b[39;00m col \u001b[38;5;129;01min\u001b[39;00m string_columns:\n\u001b[0;32m     11\u001b[0m     df[col] \u001b[38;5;241m=\u001b[39m df[col]\u001b[38;5;241m.\u001b[39mstr\u001b[38;5;241m.\u001b[39mlower()\u001b[38;5;241m.\u001b[39mstr\u001b[38;5;241m.\u001b[39mreplace(\u001b[38;5;124m'\u001b[39m\u001b[38;5;124m \u001b[39m\u001b[38;5;124m'\u001b[39m, \u001b[38;5;124m'\u001b[39m\u001b[38;5;124m_\u001b[39m\u001b[38;5;124m'\u001b[39m)\n\u001b[1;32m---> 13\u001b[0m df\u001b[38;5;241m.\u001b[39mchurn \u001b[38;5;241m=\u001b[39m (\u001b[43mdf\u001b[49m\u001b[38;5;241;43m.\u001b[39;49m\u001b[43mchurn\u001b[49m \u001b[38;5;241m==\u001b[39m \u001b[38;5;124m'\u001b[39m\u001b[38;5;124myes\u001b[39m\u001b[38;5;124m'\u001b[39m)\u001b[38;5;241m.\u001b[39mastype(\u001b[38;5;28mint\u001b[39m)\n",
      "File \u001b[1;32m~\\AppData\\Local\\Programs\\Python\\Python310\\lib\\site-packages\\pandas\\core\\generic.py:5575\u001b[0m, in \u001b[0;36mNDFrame.__getattr__\u001b[1;34m(self, name)\u001b[0m\n\u001b[0;32m   5568\u001b[0m \u001b[38;5;28;01mif\u001b[39;00m (\n\u001b[0;32m   5569\u001b[0m     name \u001b[38;5;129;01mnot\u001b[39;00m \u001b[38;5;129;01min\u001b[39;00m \u001b[38;5;28mself\u001b[39m\u001b[38;5;241m.\u001b[39m_internal_names_set\n\u001b[0;32m   5570\u001b[0m     \u001b[38;5;129;01mand\u001b[39;00m name \u001b[38;5;129;01mnot\u001b[39;00m \u001b[38;5;129;01min\u001b[39;00m \u001b[38;5;28mself\u001b[39m\u001b[38;5;241m.\u001b[39m_metadata\n\u001b[0;32m   5571\u001b[0m     \u001b[38;5;129;01mand\u001b[39;00m name \u001b[38;5;129;01mnot\u001b[39;00m \u001b[38;5;129;01min\u001b[39;00m \u001b[38;5;28mself\u001b[39m\u001b[38;5;241m.\u001b[39m_accessors\n\u001b[0;32m   5572\u001b[0m     \u001b[38;5;129;01mand\u001b[39;00m \u001b[38;5;28mself\u001b[39m\u001b[38;5;241m.\u001b[39m_info_axis\u001b[38;5;241m.\u001b[39m_can_hold_identifiers_and_holds_name(name)\n\u001b[0;32m   5573\u001b[0m ):\n\u001b[0;32m   5574\u001b[0m     \u001b[38;5;28;01mreturn\u001b[39;00m \u001b[38;5;28mself\u001b[39m[name]\n\u001b[1;32m-> 5575\u001b[0m \u001b[38;5;28;01mreturn\u001b[39;00m \u001b[38;5;28;43mobject\u001b[39;49m\u001b[38;5;241;43m.\u001b[39;49m\u001b[38;5;21;43m__getattribute__\u001b[39;49m\u001b[43m(\u001b[49m\u001b[38;5;28;43mself\u001b[39;49m\u001b[43m,\u001b[49m\u001b[43m \u001b[49m\u001b[43mname\u001b[49m\u001b[43m)\u001b[49m\n",
      "\u001b[1;31mAttributeError\u001b[0m: 'DataFrame' object has no attribute 'churn'"
     ]
    }
   ],
   "source": [
    "df = pd.read_csv('WA_Fn-UseC_-Telco-Customer-Churn.csv')\n",
    "\n",
    "df['TotalCharges'] = pd.to_numeric(df['TotalCharges'], errors='coerce')\n",
    "df['TotalCharges'] = df['TotalCharges'].fillna(0)\n",
    "\n",
    "df.columns = df.columns.str.lower().str.replace(' ', '_')\n",
    "\n",
    "string_columns = list(df.dtypes[df.dtypes == 'object'].index)\n",
    "\n",
    "for col in string_columns:\n",
    "    df[col] = df[col].str.lower().str.replace(' ', '_')\n",
    "\n",
    "df.churn = (df.churn == 'yes').astype(int)"
   ]
  },
  {
   "cell_type": "code",
   "execution_count": null,
   "id": "3d607511",
   "metadata": {},
   "outputs": [],
   "source": []
  }
 ],
 "metadata": {
  "kernelspec": {
   "display_name": "Python 3 (ipykernel)",
   "language": "python",
   "name": "python3"
  },
  "language_info": {
   "codemirror_mode": {
    "name": "ipython",
    "version": 3
   },
   "file_extension": ".py",
   "mimetype": "text/x-python",
   "name": "python",
   "nbconvert_exporter": "python",
   "pygments_lexer": "ipython3",
   "version": "3.10.5"
  }
 },
 "nbformat": 4,
 "nbformat_minor": 5
}
