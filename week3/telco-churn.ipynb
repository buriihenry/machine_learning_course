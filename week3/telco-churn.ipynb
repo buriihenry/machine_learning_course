{
 "cells": [
  {
   "cell_type": "code",
   "execution_count": 1,
   "id": "ccbf9850",
   "metadata": {},
   "outputs": [],
   "source": [
    "import pandas as pd\n",
    "import numpy as np\n",
    "\n",
    "import seaborn as sns\n",
    "from matplotlib import pyplot as plt\n",
    "%matplotlib inline"
   ]
  },
  {
   "cell_type": "code",
   "execution_count": null,
   "id": "9477bc4a",
   "metadata": {},
   "outputs": [],
   "source": []
  },
  {
   "cell_type": "code",
   "execution_count": 2,
   "id": "729420a0",
   "metadata": {},
   "outputs": [],
   "source": [
    "data = 'https://raw.githubusercontent.com/alexeygrigorev/mlbookcamp-code/master/chapter-03-churn-prediction/WA_Fn-UseC_-Telco-Customer-Churn.csv'"
   ]
  },
  {
   "cell_type": "code",
   "execution_count": 3,
   "id": "c28570bb",
   "metadata": {},
   "outputs": [
    {
     "name": "stderr",
     "output_type": "stream",
     "text": [
      "--2023-09-11 03:57:53--  https://raw.githubusercontent.com/alexeygrigorev/mlbookcamp-code/master/chapter-03-churn-prediction/WA_Fn-UseC_-Telco-Customer-Churn.csv\n",
      "Resolving raw.githubusercontent.com (raw.githubusercontent.com)... 185.199.111.133, 185.199.110.133, 185.199.109.133, ...\n",
      "Connecting to raw.githubusercontent.com (raw.githubusercontent.com)|185.199.111.133|:443... connected.\n",
      "HTTP request sent, awaiting response... 200 OK\n",
      "Length: 977501 (955K) [text/plain]\n",
      "Saving to: 'WA_Fn-UseC_-Telco-Customer-Churn.csv.1'\n",
      "\n",
      "     0K .......... .......... .......... .......... ..........  5%  391K 2s\n",
      "    50K .......... .......... .......... .......... .......... 10% 1.28M 1s\n",
      "   100K .......... .......... .......... .......... .......... 15%  756K 1s\n",
      "   150K .......... .......... .......... .......... .......... 20% 2.21M 1s\n",
      "   200K .......... .......... .......... .......... .......... 26%  748K 1s\n",
      "   250K .......... .......... .......... .......... .......... 31% 1.79M 1s\n",
      "   300K .......... .......... .......... .......... .......... 36% 2.32M 1s\n",
      "   350K .......... .......... .......... .......... .......... 41%  708K 1s\n",
      "   400K .......... .......... .......... .......... .......... 47% 1.83M 1s\n",
      "   450K .......... .......... .......... .......... .......... 52% 5.50M 0s\n",
      "   500K .......... .......... .......... .......... .......... 57% 5.25M 0s\n",
      "   550K .......... .......... .......... .......... .......... 62% 7.08M 0s\n",
      "   600K .......... .......... .......... .......... .......... 68%  992K 0s\n",
      "   650K .......... .......... .......... .......... .......... 73% 4.81M 0s\n",
      "   700K .......... .......... .......... .......... .......... 78% 6.00M 0s\n",
      "   750K .......... .......... .......... .......... .......... 83% 7.18M 0s\n",
      "   800K .......... .......... .......... .......... .......... 89% 7.64M 0s\n",
      "   850K .......... .......... .......... .......... .......... 94% 8.66M 0s\n",
      "   900K .......... .......... .......... .......... .......... 99% 5.89M 0s\n",
      "   950K ....                                                  100% 87.6G=0.6s\n",
      "\n",
      "2023-09-11 03:57:54 (1.59 MB/s) - 'WA_Fn-UseC_-Telco-Customer-Churn.csv.1' saved [977501/977501]\n",
      "\n"
     ]
    }
   ],
   "source": [
    "!wget $data"
   ]
  },
  {
   "cell_type": "code",
   "execution_count": null,
   "id": "c87308be",
   "metadata": {},
   "outputs": [],
   "source": []
  },
  {
   "cell_type": "code",
   "execution_count": 4,
   "id": "4768292c",
   "metadata": {},
   "outputs": [],
   "source": [
    "df = pd.read_csv('WA_Fn-UseC_-Telco-Customer-Churn.csv')\n",
    "\n",
    "df['TotalCharges'] = pd.to_numeric(df['TotalCharges'], errors='coerce')\n",
    "df['TotalCharges'] = df['TotalCharges'].fillna(0)\n",
    "\n",
    "df.columns = df.columns.str.lower().str.replace(' ', '_')\n",
    "\n",
    "string_columns = list(df.dtypes[df.dtypes == 'object'].index)\n",
    "\n",
    "for col in string_columns:\n",
    "    df[col] = df[col].str.lower().str.replace(' ', '_')\n",
    "\n",
    "df.churn = (df.churn == 'yes').astype(int)"
   ]
  },
  {
   "cell_type": "code",
   "execution_count": 5,
   "id": "5475376f",
   "metadata": {},
   "outputs": [],
   "source": [
    "from sklearn.model_selection import train_test_split"
   ]
  },
  {
   "cell_type": "code",
   "execution_count": 6,
   "id": "c7414fc9",
   "metadata": {},
   "outputs": [],
   "source": [
    "df_train_full, df_test = train_test_split(df, test_size=0.2, random_state=1)"
   ]
  },
  {
   "cell_type": "code",
   "execution_count": null,
   "id": "bca0481d",
   "metadata": {},
   "outputs": [],
   "source": [
    "df_train, df_val = train_test_split(df_train_full, test_size=0.33, random_state=11)"
   ]
  }
 ],
 "metadata": {
  "kernelspec": {
   "display_name": "Python 3 (ipykernel)",
   "language": "python",
   "name": "python3"
  },
  "language_info": {
   "codemirror_mode": {
    "name": "ipython",
    "version": 3
   },
   "file_extension": ".py",
   "mimetype": "text/x-python",
   "name": "python",
   "nbconvert_exporter": "python",
   "pygments_lexer": "ipython3",
   "version": "3.10.5"
  }
 },
 "nbformat": 4,
 "nbformat_minor": 5
}
